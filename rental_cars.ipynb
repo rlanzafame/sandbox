{
 "cells": [
  {
   "cell_type": "code",
   "execution_count": 1,
   "metadata": {},
   "outputs": [],
   "source": [
    "from dataclasses import dataclass"
   ]
  },
  {
   "cell_type": "code",
   "execution_count": 49,
   "metadata": {},
   "outputs": [],
   "source": [
    "@dataclass\n",
    "class RentalCar:\n",
    "    \"\"\"Class for keeping track of a rental car cost.\"\"\"\n",
    "    company: str\n",
    "    car: str\n",
    "    cost_weekly: float\n",
    "    cost_extra_km: float\n",
    "    daily_km_included: float\n",
    "\n",
    "    def days(self, weeks) -> int:\n",
    "        return round(weeks*7)\n",
    "\n",
    "    def extra_km_needed(self, weeks, km) -> float:\n",
    "        km_extra = km - self.daily_km_included*self.days(weeks)\n",
    "        if km_extra < 0:\n",
    "            print('No extra km needed.')\n",
    "            return 0\n",
    "        return km_extra\n",
    "\n",
    "    def total_cost(self, weeks, km) -> float:\n",
    "        return self.cost_weekly*weeks + self.extra_km_needed(weeks, km)*self.cost_extra_km"
   ]
  },
  {
   "cell_type": "code",
   "execution_count": 57,
   "metadata": {},
   "outputs": [
    {
     "name": "stdout",
     "output_type": "stream",
     "text": [
      "For 1.3 weeks (9 days) and 4000 km:\n",
      "Cost = 1278.0 for Kohler, Klasse D1, 7 seater\n",
      "Cost = 1976.5 for Kohler, Klasse PB, 9 seater\n"
     ]
    }
   ],
   "source": [
    "D1 = RentalCar(company=\"Kohler\", car=\"Klasse D1, 7 seater\",\n",
    "               cost_weekly=560, daily_km_included=200, cost_extra_km=0.25)\n",
    "PB = RentalCar(company=\"Kohler\", car=\"Klasse PB, 9 seater\",\n",
    "                cost_weekly=805, daily_km_included=100, cost_extra_km=0.30)\n",
    "\n",
    "weeks = 1.3\n",
    "km = 4000\n",
    "\n",
    "print(f'For {weeks} weeks ({D1.days(weeks)} days) and {km} km:')\n",
    "print(f'Cost = {D1.total_cost(weeks, km)} for {D1.company}, {D1.car}')\n",
    "print(f'Cost = {PB.total_cost(weeks, km)} for {PB.company}, {PB.car}')"
   ]
  },
  {
   "cell_type": "code",
   "execution_count": null,
   "metadata": {},
   "outputs": [],
   "source": []
  }
 ],
 "metadata": {
  "kernelspec": {
   "display_name": "mude",
   "language": "python",
   "name": "python3"
  },
  "language_info": {
   "codemirror_mode": {
    "name": "ipython",
    "version": 3
   },
   "file_extension": ".py",
   "mimetype": "text/x-python",
   "name": "python",
   "nbconvert_exporter": "python",
   "pygments_lexer": "ipython3",
   "version": "3.11.4"
  }
 },
 "nbformat": 4,
 "nbformat_minor": 2
}
